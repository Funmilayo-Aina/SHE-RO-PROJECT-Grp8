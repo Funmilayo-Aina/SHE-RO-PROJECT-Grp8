{
 "cells": [
  {
   "cell_type": "markdown",
   "metadata": {},
   "source": [
    "# DATA ANALYSIS- PROJECT SHE'RO"
   ]
  },
  {
   "cell_type": "code",
   "execution_count": 1,
   "metadata": {},
   "outputs": [],
   "source": [
    "import pandas as pd\n",
    "import numpy as np\n",
    "import matplotlib.pyplot as plt\n",
    "import seaborn as sns\n",
    "import csv"
   ]
  },
  {
   "cell_type": "code",
   "execution_count": 2,
   "metadata": {},
   "outputs": [],
   "source": [
    "Year = 2020\n",
    "R = pd.read_csv(\"new (1).csv\", encoding = \"utf-8\")"
   ]
  },
  {
   "cell_type": "code",
   "execution_count": 3,
   "metadata": {},
   "outputs": [
    {
     "data": {
      "text/html": [
       "<div>\n",
       "<style scoped>\n",
       "    .dataframe tbody tr th:only-of-type {\n",
       "        vertical-align: middle;\n",
       "    }\n",
       "\n",
       "    .dataframe tbody tr th {\n",
       "        vertical-align: top;\n",
       "    }\n",
       "\n",
       "    .dataframe thead th {\n",
       "        text-align: right;\n",
       "    }\n",
       "</style>\n",
       "<table border=\"1\" class=\"dataframe\">\n",
       "  <thead>\n",
       "    <tr style=\"text-align: right;\">\n",
       "      <th></th>\n",
       "      <th>S/N</th>\n",
       "      <th>Month</th>\n",
       "      <th>Year</th>\n",
       "      <th>Nature of Violence</th>\n",
       "      <th>Location of Violence</th>\n",
       "      <th>Perpetrators Name</th>\n",
       "      <th>Survivors Age</th>\n",
       "      <th>Marital Status</th>\n",
       "      <th>Survivors occupation</th>\n",
       "      <th>Perpetrators Occupation</th>\n",
       "      <th>Perpetrators Age</th>\n",
       "      <th>Perpetrators Gender</th>\n",
       "      <th>Perpetrator's Marrital Status</th>\n",
       "      <th>Perpetrators occupation</th>\n",
       "      <th>Relationship with Survivor</th>\n",
       "      <th>Actions Taken</th>\n",
       "    </tr>\n",
       "  </thead>\n",
       "  <tbody>\n",
       "    <tr>\n",
       "      <th>0</th>\n",
       "      <td>1</td>\n",
       "      <td>Jan</td>\n",
       "      <td>2020</td>\n",
       "      <td>Sexual violence</td>\n",
       "      <td>Abuja</td>\n",
       "      <td>Female</td>\n",
       "      <td>15</td>\n",
       "      <td>Single</td>\n",
       "      <td>Student</td>\n",
       "      <td>Akindele Ajewole</td>\n",
       "      <td>43</td>\n",
       "      <td>Male</td>\n",
       "      <td>Married</td>\n",
       "      <td>NR</td>\n",
       "      <td>Father</td>\n",
       "      <td>Police arrest</td>\n",
       "    </tr>\n",
       "    <tr>\n",
       "      <th>1</th>\n",
       "      <td>2</td>\n",
       "      <td>Jan</td>\n",
       "      <td>2020</td>\n",
       "      <td>Sexual violence</td>\n",
       "      <td>Abuja</td>\n",
       "      <td>Female</td>\n",
       "      <td>2</td>\n",
       "      <td>Single</td>\n",
       "      <td>NR</td>\n",
       "      <td>Peter Ayemoba</td>\n",
       "      <td>NR</td>\n",
       "      <td>Male</td>\n",
       "      <td>Married</td>\n",
       "      <td>NR</td>\n",
       "      <td>Father</td>\n",
       "      <td>Police arrest</td>\n",
       "    </tr>\n",
       "    <tr>\n",
       "      <th>2</th>\n",
       "      <td>3</td>\n",
       "      <td>Jan</td>\n",
       "      <td>2020</td>\n",
       "      <td>Sexual violence</td>\n",
       "      <td>Adamawa</td>\n",
       "      <td>Female</td>\n",
       "      <td>17</td>\n",
       "      <td>Single</td>\n",
       "      <td>Student</td>\n",
       "      <td>Matthew Joseph</td>\n",
       "      <td>42</td>\n",
       "      <td>Male</td>\n",
       "      <td>Married</td>\n",
       "      <td>NR</td>\n",
       "      <td>Father</td>\n",
       "      <td>Police arrest</td>\n",
       "    </tr>\n",
       "    <tr>\n",
       "      <th>3</th>\n",
       "      <td>4</td>\n",
       "      <td>Jan</td>\n",
       "      <td>2020</td>\n",
       "      <td>Sexual violence</td>\n",
       "      <td>Akwa-Ibom</td>\n",
       "      <td>Female</td>\n",
       "      <td>28</td>\n",
       "      <td>Single</td>\n",
       "      <td>NR</td>\n",
       "      <td>Uko Nteghe</td>\n",
       "      <td>30</td>\n",
       "      <td>Male</td>\n",
       "      <td>NR</td>\n",
       "      <td>NR</td>\n",
       "      <td>NR</td>\n",
       "      <td>Police arrest</td>\n",
       "    </tr>\n",
       "    <tr>\n",
       "      <th>4</th>\n",
       "      <td>5</td>\n",
       "      <td>Jan</td>\n",
       "      <td>2020</td>\n",
       "      <td>Sexual violence</td>\n",
       "      <td>Anambra</td>\n",
       "      <td>Female</td>\n",
       "      <td>10</td>\n",
       "      <td>Single</td>\n",
       "      <td>Student</td>\n",
       "      <td>Ikechukwu Okoli</td>\n",
       "      <td>22</td>\n",
       "      <td>Male</td>\n",
       "      <td>Single</td>\n",
       "      <td>NR</td>\n",
       "      <td>NR</td>\n",
       "      <td>Police arrest</td>\n",
       "    </tr>\n",
       "  </tbody>\n",
       "</table>\n",
       "</div>"
      ],
      "text/plain": [
       "   S/N Month  Year Nature of Violence Location of Violence Perpetrators Name   \\\n",
       "0    1   Jan  2020    Sexual violence                Abuja             Female   \n",
       "1    2   Jan  2020    Sexual violence                Abuja             Female   \n",
       "2    3   Jan  2020    Sexual violence              Adamawa             Female   \n",
       "3    4   Jan  2020    Sexual violence            Akwa-Ibom             Female   \n",
       "4    5   Jan  2020    Sexual violence              Anambra             Female   \n",
       "\n",
       "  Survivors Age Marital Status Survivors occupation Perpetrators Occupation  \\\n",
       "0            15         Single              Student        Akindele Ajewole   \n",
       "1             2         Single                   NR           Peter Ayemoba   \n",
       "2            17         Single              Student          Matthew Joseph   \n",
       "3            28         Single                   NR              Uko Nteghe   \n",
       "4            10         Single              Student         Ikechukwu Okoli   \n",
       "\n",
       "  Perpetrators Age Perpetrators Gender Perpetrator's Marrital Status  \\\n",
       "0               43                Male                       Married   \n",
       "1               NR                Male                       Married   \n",
       "2               42                Male                       Married   \n",
       "3               30                Male                            NR   \n",
       "4               22                Male                        Single   \n",
       "\n",
       "  Perpetrators occupation Relationship with Survivor  Actions Taken  \n",
       "0                      NR                     Father  Police arrest  \n",
       "1                      NR                     Father  Police arrest  \n",
       "2                      NR                     Father  Police arrest  \n",
       "3                      NR                         NR  Police arrest  \n",
       "4                      NR                         NR  Police arrest  "
      ]
     },
     "execution_count": 3,
     "metadata": {},
     "output_type": "execute_result"
    }
   ],
   "source": [
    "R.head()"
   ]
  },
  {
   "cell_type": "code",
   "execution_count": 4,
   "metadata": {},
   "outputs": [
    {
     "data": {
      "text/plain": [
       "Index(['S/N', 'Month', 'Year', 'Nature of Violence', 'Location of Violence',\n",
       "       'Perpetrators Name ', 'Survivors Age', 'Marital Status',\n",
       "       'Survivors occupation', 'Perpetrators Occupation', 'Perpetrators Age',\n",
       "       'Perpetrators Gender', 'Perpetrator's Marrital Status',\n",
       "       'Perpetrators occupation', 'Relationship with Survivor',\n",
       "       'Actions Taken'],\n",
       "      dtype='object')"
      ]
     },
     "execution_count": 4,
     "metadata": {},
     "output_type": "execute_result"
    }
   ],
   "source": [
    "# summary of numerical data\n",
    "R.describe()\n",
    "R.columns\n"
   ]
  },
  {
   "cell_type": "code",
   "execution_count": 5,
   "metadata": {},
   "outputs": [
    {
     "data": {
      "text/plain": [
       "count     104\n",
       "unique     35\n",
       "top        NR\n",
       "freq       16\n",
       "Name: Survivors Age, dtype: object"
      ]
     },
     "execution_count": 5,
     "metadata": {},
     "output_type": "execute_result"
    }
   ],
   "source": [
    "R['Survivors Age'].describe()\n"
   ]
  },
  {
   "cell_type": "code",
   "execution_count": 6,
   "metadata": {},
   "outputs": [],
   "source": [
    "R['Survivors Age'] = np.where(R['Survivors Age']=='NR', 0, R['Survivors Age'] )"
   ]
  },
  {
   "cell_type": "code",
   "execution_count": 7,
   "metadata": {},
   "outputs": [
    {
     "data": {
      "text/plain": [
       "count     104\n",
       "unique     35\n",
       "top         0\n",
       "freq       16\n",
       "Name: Survivors Age, dtype: int64"
      ]
     },
     "execution_count": 7,
     "metadata": {},
     "output_type": "execute_result"
    }
   ],
   "source": [
    "R['Survivors Age'].describe()\n"
   ]
  },
  {
   "cell_type": "code",
   "execution_count": 8,
   "metadata": {},
   "outputs": [
    {
     "data": {
      "text/plain": [
       "count     104\n",
       "unique     35\n",
       "top         0\n",
       "freq       16\n",
       "Name: Survivors Age, dtype: int64"
      ]
     },
     "execution_count": 8,
     "metadata": {},
     "output_type": "execute_result"
    }
   ],
   "source": [
    "R['Survivors Age'].describe()\n"
   ]
  },
  {
   "cell_type": "code",
   "execution_count": 9,
   "metadata": {},
   "outputs": [],
   "source": [
    "R[\"Survivors Age\"] = pd.to_numeric(R[\"Survivors Age\"], downcast=\"float\")"
   ]
  },
  {
   "cell_type": "code",
   "execution_count": 10,
   "metadata": {},
   "outputs": [
    {
     "data": {
      "text/plain": [
       "<AxesSubplot:ylabel='Survivors Age'>"
      ]
     },
     "execution_count": 10,
     "metadata": {},
     "output_type": "execute_result"
    },
    {
     "data": {
      "image/png": "[encoded data removed]",
      "text/plain": [
       "<Figure size 720x720 with 1 Axes>"
      ]
     },
     "metadata": {
      "needs_background": "light"
     },
     "output_type": "display_data"
    }
   ],
   "source": [
    "plt.figure(figsize = (10,10)) \n",
    "plt.subplot(1,1,1)\n",
    "sns.boxplot(y = R['Survivors Age'])\n",
    "\n"
   ]
  },
  {
   "cell_type": "markdown",
   "metadata": {},
   "source": [
    "# OBSERVATIONS \n",
    "\n",
    "1. It was observed that the youngest girl abused is 6 years old and the oldest woman abused is 85 years old"
   ]
  },
  {
   "cell_type": "code",
   "execution_count": 11,
   "metadata": {},
   "outputs": [
    {
     "data": {
      "text/plain": [
       "count     104\n",
       "unique     37\n",
       "top        NR\n",
       "freq       38\n",
       "Name: Perpetrators Age, dtype: object"
      ]
     },
     "execution_count": 11,
     "metadata": {},
     "output_type": "execute_result"
    }
   ],
   "source": [
    "R[\"Perpetrators Age\"].describe()"
   ]
  },
  {
   "cell_type": "code",
   "execution_count": 12,
   "metadata": {},
   "outputs": [
    {
     "data": {
      "text/plain": [
       "NR    38\n",
       "28     5\n",
       "40     4\n",
       "25     4\n",
       "42     3\n",
       "35     3\n",
       "23     3\n",
       "22     3\n",
       "21     2\n",
       "70     2\n",
       "27     2\n",
       "65     2\n",
       "71     2\n",
       "32     2\n",
       "29     2\n",
       "43     2\n",
       "26     2\n",
       "30     2\n",
       "33     2\n",
       "20     2\n",
       "36     1\n",
       "16     1\n",
       "57     1\n",
       "41     1\n",
       "75     1\n",
       "52     1\n",
       "61     1\n",
       "46     1\n",
       "39     1\n",
       "53     1\n",
       "34     1\n",
       "60     1\n",
       "14     1\n",
       "18     1\n",
       "38     1\n",
       "45     1\n",
       "19     1\n",
       "Name: Perpetrators Age, dtype: int64"
      ]
     },
     "execution_count": 12,
     "metadata": {},
     "output_type": "execute_result"
    }
   ],
   "source": [
    "R[\"Perpetrators Age\"].value_counts()"
   ]
  },
  {
   "cell_type": "code",
   "execution_count": 13,
   "metadata": {},
   "outputs": [],
   "source": [
    "R[\"Perpetrators Age\"] =np.where(R[\"Perpetrators Age\"]==\"NR\",0,R[\"Perpetrators Age\"])"
   ]
  },
  {
   "cell_type": "code",
   "execution_count": 15,
   "metadata": {},
   "outputs": [],
   "source": [
    "R[\"Perpetrators Age\"] = pd.to_numeric(R[\"Perpetrators Age\"], downcast=\"float\")"
   ]
  },
  {
   "cell_type": "code",
   "execution_count": 16,
   "metadata": {},
   "outputs": [
    {
     "data": {
      "text/plain": [
       "<AxesSubplot:xlabel='Perpetrators Gender', ylabel='Perpetrators Age'>"
      ]
     },
     "execution_count": 16,
     "metadata": {},
     "output_type": "execute_result"
    },
    {
     "data": {
      "image/png": "[encoded data removed]",
      "text/plain": [
       "<Figure size 720x720 with 1 Axes>"
      ]
     },
     "metadata": {
      "needs_background": "light"
     },
     "output_type": "display_data"
    }
   ],
   "source": [
    "plt.figure(figsize = (10,10)) \n",
    "plt.subplot(1,1,1)\n",
    "sns.scatterplot(x = R[\"Perpetrators Gender\"], y = R['Perpetrators Age'])"
   ]
  },
  {
   "cell_type": "code",
   "execution_count": 18,
   "metadata": {},
   "outputs": [
    {
     "data": {
      "text/plain": [
       "count      103\n",
       "unique       4\n",
       "top       Male\n",
       "freq        92\n",
       "Name: Perpetrators Gender, dtype: object"
      ]
     },
     "execution_count": 18,
     "metadata": {},
     "output_type": "execute_result"
    }
   ],
   "source": [
    "R[\"Perpetrators Gender\"].describe()"
   ]
  },
  {
   "cell_type": "code",
   "execution_count": 19,
   "metadata": {},
   "outputs": [
    {
     "data": {
      "text/plain": [
       "Male      92\n",
       "NR         7\n",
       "Female     3\n",
       "-          1\n",
       "Name: Perpetrators Gender, dtype: int64"
      ]
     },
     "execution_count": 19,
     "metadata": {},
     "output_type": "execute_result"
    }
   ],
   "source": [
    "R[\"Perpetrators Gender\"].value_counts()"
   ]
  },
  {
   "cell_type": "markdown",
   "metadata": {},
   "source": [
    "# OBSERVATIONS\n",
    "1. Perpetrators Age ranged from 15 years as least to 75 years as the maximum.\n",
    "\n",
    "2. 36% of the Survivors did not report their Perpetrators ages.\n",
    "\n",
    "3. Average range of the Perpetrators is 24 years and 40 years.\n",
    "\n",
    "4. 92% of the Perpetrators were males, 3% of the Perpetrators were females and 7% of them were not recorded."
   ]
  },
  {
   "cell_type": "code",
   "execution_count": 20,
   "metadata": {},
   "outputs": [
    {
     "data": {
      "text/plain": [
       "Jun    47\n",
       "May    22\n",
       "Apr    14\n",
       "Mar     9\n",
       "Jan     8\n",
       "Feb     4\n",
       "Name: Month, dtype: int64"
      ]
     },
     "execution_count": 20,
     "metadata": {},
     "output_type": "execute_result"
    }
   ],
   "source": [
    "R[\"Month\"].value_counts()"
   ]
  },
  {
   "cell_type": "code",
   "execution_count": 21,
   "metadata": {},
   "outputs": [
    {
     "data": {
      "text/plain": [
       "2020    104\n",
       "Name: Year, dtype: int64"
      ]
     },
     "execution_count": 21,
     "metadata": {},
     "output_type": "execute_result"
    }
   ],
   "source": [
    "R[\"Year\"].value_counts()"
   ]
  },
  {
   "cell_type": "markdown",
   "metadata": {},
   "source": [
    "# OBSERVATIONS\n",
    "\n",
    "1. Violence / Sexual Abuse is the highest during the Rainy Season of Year 2020(April to June), this accounts for 81% of the reported cases."
   ]
  },
  {
   "cell_type": "code",
   "execution_count": 22,
   "metadata": {},
   "outputs": [
    {
     "data": {
      "text/plain": [
       "count                 104\n",
       "unique                  3\n",
       "top       Sexual violence\n",
       "freq                   72\n",
       "Name: Nature of Violence, dtype: object"
      ]
     },
     "execution_count": 22,
     "metadata": {},
     "output_type": "execute_result"
    }
   ],
   "source": [
    "R[\"Nature of Violence\"].describe()"
   ]
  },
  {
   "cell_type": "code",
   "execution_count": 23,
   "metadata": {},
   "outputs": [
    {
     "data": {
      "text/plain": [
       "Sexual violence           72\n",
       "Physical violence         29\n",
       "Psychological violence     3\n",
       "Name: Nature of Violence, dtype: int64"
      ]
     },
     "execution_count": 23,
     "metadata": {},
     "output_type": "execute_result"
    }
   ],
   "source": [
    "R[\"Nature of Violence\"].value_counts()"
   ]
  },
  {
   "cell_type": "markdown",
   "metadata": {},
   "source": [
    " # OBSERVATIONS\n",
    " \n",
    " 1. 72% of the Violence was Sexual Violence, 29% of violence was Physical Violence, while 3% of the violence was Psychological violence."
   ]
  },
  {
   "cell_type": "code",
   "execution_count": 24,
   "metadata": {},
   "outputs": [
    {
     "data": {
      "text/plain": [
       "count       104\n",
       "unique       29\n",
       "top       Lagos\n",
       "freq         21\n",
       "Name: Location of Violence, dtype: object"
      ]
     },
     "execution_count": 24,
     "metadata": {},
     "output_type": "execute_result"
    }
   ],
   "source": [
    "R[\"Location of Violence\"].describe()"
   ]
  },
  {
   "cell_type": "code",
   "execution_count": 25,
   "metadata": {},
   "outputs": [
    {
     "data": {
      "text/plain": [
       "Lagos         21\n",
       "Benue         10\n",
       "Katsina       10\n",
       "Akwa-Ibom      9\n",
       "Anambra        6\n",
       "Enugu          4\n",
       "Oyo            4\n",
       "Ekiti          4\n",
       "Kano           4\n",
       "Imo            4\n",
       "Ebonyi         3\n",
       "Osun           3\n",
       "Edo            3\n",
       "Ondo           2\n",
       "Ogun           2\n",
       "Abuja          2\n",
       "Nasarawa       1\n",
       "Kogi State     1\n",
       "Gome           1\n",
       "Bauchi         1\n",
       "Adamawa        1\n",
       "Zamfara        1\n",
       "Niger          1\n",
       "FCT            1\n",
       "Kwara          1\n",
       "Kaduna         1\n",
       "Uyo            1\n",
       "Jigawa         1\n",
       "Yobe           1\n",
       "Name: Location of Violence, dtype: int64"
      ]
     },
     "execution_count": 25,
     "metadata": {},
     "output_type": "execute_result"
    }
   ],
   "source": [
    "R[\"Location of Violence\"].value_counts()"
   ]
  },
  {
   "cell_type": "markdown",
   "metadata": {},
   "source": [
    "# OBSERVATIONS\n",
    "\n",
    "1. 29 States out of 36 states were recorded, and it was observed that Lagos State had the highest reported cases which accounted for 21% of the cases, while Benue and Katsina had 10% of the cases respectively."
   ]
  },
  {
   "cell_type": "code",
   "execution_count": 26,
   "metadata": {},
   "outputs": [
    {
     "data": {
      "text/plain": [
       "count        104\n",
       "unique         3\n",
       "top       Single\n",
       "freq          78\n",
       "Name: Marital Status, dtype: object"
      ]
     },
     "execution_count": 26,
     "metadata": {},
     "output_type": "execute_result"
    }
   ],
   "source": [
    "R[\"Marital Status\"].describe()"
   ]
  },
  {
   "cell_type": "code",
   "execution_count": 27,
   "metadata": {},
   "outputs": [
    {
     "data": {
      "text/plain": [
       "Single     78\n",
       "Married    18\n",
       "NR          8\n",
       "Name: Marital Status, dtype: int64"
      ]
     },
     "execution_count": 27,
     "metadata": {},
     "output_type": "execute_result"
    }
   ],
   "source": [
    "R[\"Marital Status\"].value_counts()"
   ]
  },
  {
   "cell_type": "markdown",
   "metadata": {},
   "source": [
    "# OBSERVATION\n",
    "1. From our analysis, it can be observed that 78% of the surviovrs are single while 18% are married"
   ]
  },
  {
   "cell_type": "code",
   "execution_count": 28,
   "metadata": {},
   "outputs": [
    {
     "data": {
      "text/plain": [
       "count     104\n",
       "unique     22\n",
       "top        NR\n",
       "freq       48\n",
       "Name: Relationship with Survivor, dtype: object"
      ]
     },
     "execution_count": 28,
     "metadata": {},
     "output_type": "execute_result"
    }
   ],
   "source": [
    "R[\"Relationship with Survivor\"].describe()"
   ]
  },
  {
   "cell_type": "code",
   "execution_count": 29,
   "metadata": {},
   "outputs": [
    {
     "data": {
      "text/plain": [
       "NR                     48\n",
       "Husband                12\n",
       "None                   11\n",
       "Father                  9\n",
       "Family friend           4\n",
       "Boss                    3\n",
       "Neighbour               2\n",
       "colleagues neigbour     1\n",
       "Head Master             1\n",
       "Friend                  1\n",
       "Care Giver              1\n",
       " colleague              1\n",
       "Boyfriend               1\n",
       "Landlord                1\n",
       "friends                 1\n",
       "Customer                1\n",
       "Niece                   1\n",
       "brothers inlaw          1\n",
       "family friend           1\n",
       "husband                 1\n",
       "father                  1\n",
       "Pastor                  1\n",
       "Name: Relationship with Survivor, dtype: int64"
      ]
     },
     "execution_count": 29,
     "metadata": {},
     "output_type": "execute_result"
    }
   ],
   "source": [
    "R[\"Relationship with Survivor\"].value_counts()"
   ]
  },
  {
   "cell_type": "markdown",
   "metadata": {},
   "source": [
    "# OBSERVATION\n",
    "1. From our analysis, it can be observed that 48% of the perpetrator's relationship with survivor was not reported, 11% of the peptrators had no relationship with the survivors while the remaining 41% had a relationship with the survivor"
   ]
  },
  {
   "cell_type": "code",
   "execution_count": 30,
   "metadata": {},
   "outputs": [
    {
     "data": {
      "text/plain": [
       "count     104\n",
       "unique      5\n",
       "top        NR\n",
       "freq       46\n",
       "Name: Perpetrator's Marrital Status, dtype: object"
      ]
     },
     "execution_count": 30,
     "metadata": {},
     "output_type": "execute_result"
    }
   ],
   "source": [
    "R[\"Perpetrator's Marrital Status\"].describe()"
   ]
  },
  {
   "cell_type": "code",
   "execution_count": 31,
   "metadata": {},
   "outputs": [
    {
     "data": {
      "text/plain": [
       "NR         46\n",
       "Married    30\n",
       "Single     26\n",
       "NP          1\n",
       "Single      1\n",
       "Name: Perpetrator's Marrital Status, dtype: int64"
      ]
     },
     "execution_count": 31,
     "metadata": {},
     "output_type": "execute_result"
    }
   ],
   "source": [
    "R[\"Perpetrator's Marrital Status\"].value_counts()"
   ]
  },
  {
   "cell_type": "markdown",
   "metadata": {},
   "source": [
    "# OBSERVATION\n",
    "1. From our analysis, it can be observed that 30% of the perpetrators are married while 26% are single, 46% of the perpetrators marital status was not reported"
   ]
  },
  {
   "cell_type": "code",
   "execution_count": 32,
   "metadata": {},
   "outputs": [
    {
     "data": {
      "text/plain": [
       "count               104\n",
       "unique               19\n",
       "top       Police arrest\n",
       "freq                 72\n",
       "Name: Actions Taken, dtype: object"
      ]
     },
     "execution_count": 32,
     "metadata": {},
     "output_type": "execute_result"
    }
   ],
   "source": [
    "R[\"Actions Taken\"].describe()"
   ]
  },
  {
   "cell_type": "code",
   "execution_count": 33,
   "metadata": {},
   "outputs": [
    {
     "data": {
      "text/plain": [
       "Police arrest                       72\n",
       "NR                                   4\n",
       "Charged to court                     3\n",
       "police arrest                        3\n",
       "Police notice                        3\n",
       "lawsuit                              3\n",
       "At large                             2\n",
       "sentenced                            2\n",
       "Investigation                        2\n",
       "Police arrest and investigation      1\n",
       "No Action                            1\n",
       "Beaten by the youth and arrested     1\n",
       "Punishment                           1\n",
       "Public Campaign                      1\n",
       "NP                                   1\n",
       "Absconded                            1\n",
       "Arrest and investigation             1\n",
       "Law  suit                            1\n",
       "Police arrest and Investigation      1\n",
       "Name: Actions Taken, dtype: int64"
      ]
     },
     "execution_count": 33,
     "metadata": {},
     "output_type": "execute_result"
    }
   ],
   "source": [
    "R[\"Actions Taken\"].value_counts()"
   ]
  },
  {
   "cell_type": "markdown",
   "metadata": {},
   "source": [
    "# OBSERVATION\n",
    "1. From our analysis, it can be observed that out of the 104 cases reported, 72% of the perpetrators have been arrested"
   ]
  },
  {
   "cell_type": "code",
   "execution_count": null,
   "metadata": {},
   "outputs": [],
   "source": []
  }
 ],
 "metadata": {
  "kernelspec": {
   "display_name": "Python 3",
   "language": "python",
   "name": "python3"
  },
  "language_info": {
   "codemirror_mode": {
    "name": "ipython",
    "version": 3
   },
   "file_extension": ".py",
   "mimetype": "text/x-python",
   "name": "python",
   "nbconvert_exporter": "python",
   "pygments_lexer": "ipython3",
   "version": "3.8.8"
  }
 },
 "nbformat": 4,
 "nbformat_minor": 4
}
